{
  "nbformat": 4,
  "nbformat_minor": 0,
  "metadata": {
    "colab": {
      "provenance": [],
      "authorship_tag": "ABX9TyNR5DqHTXlYK688jfhNn3wR",
      "include_colab_link": true
    },
    "kernelspec": {
      "name": "python3",
      "display_name": "Python 3"
    },
    "language_info": {
      "name": "python"
    }
  },
  "cells": [
    {
      "cell_type": "markdown",
      "metadata": {
        "id": "view-in-github",
        "colab_type": "text"
      },
      "source": [
        "<a href=\"https://colab.research.google.com/github/isaacmenchaca97/EfficientNetB0/blob/main/medical_image_classification.ipynb\" target=\"_parent\"><img src=\"https://colab.research.google.com/assets/colab-badge.svg\" alt=\"Open In Colab\"/></a>"
      ]
    },
    {
      "cell_type": "markdown",
      "source": [
        "#Digital Image Processing For Medical Image Classification: Final Project\n",
        "###Isaac Menchaca Panecatl\n",
        "###Dr. Ulises Moya\n",
        "###Computer Science Master's\n",
        "**Based on paper**: [EfficientNet: Rethinking Model Scaling for Convolutional Neural Networks](https://arxiv.org/abs/1905.11946)  (2019), by Mingxing Tan and Quoc V. Le, introduces an innovative approach to scaling convolutional neural networks (CNNs) efficiently and effectively.\n",
        "\n",
        "**Objective**: To develop a medical image classification system using the pre-trained EfficientNet-B0 model, evaluating the impact of various digital image processing techniques (blur, noise, and contrast) on the model's performance when classifying 100 medical images from the NCT-CRC-HE-100K dataset.\n",
        "\n",
        "**Methodology**: (convolusion, erocion, dilatacion para intentar mejorar) Blure, Ruido, Contraste\n",
        "\n",
        "**Link to video**:"
      ],
      "metadata": {
        "id": "zU8mchE0sboW"
      }
    },
    {
      "cell_type": "markdown",
      "source": [
        "##Imports"
      ],
      "metadata": {
        "id": "IizaemoHvaAM"
      }
    },
    {
      "cell_type": "code",
      "execution_count": null,
      "metadata": {
        "id": "wcBgkwRUSJm0"
      },
      "outputs": [],
      "source": [
        "#!/usr/bin/env python\n",
        "## -*- coding: utf-8 -*-\n",
        "__author__ = [\"Isaac Menchaca Panecatl\"]\n",
        "__copyright__ = \"Copyright 2024\"\n",
        "__credits__ = [\"Isaac Menchaca Panecatl\"]\n",
        "__license__ = \"MIT\"\n",
        "__version__ = \"0.0.1\"\n",
        "__maintainer__ = [\"Isaac Menchaca Panecatl\"]\n",
        "__email__ = \"isaac.menchaca@edu.uag.mx\"\n",
        "__status__ = \"Development\"\n",
        "\n"
      ]
    }
  ]
}